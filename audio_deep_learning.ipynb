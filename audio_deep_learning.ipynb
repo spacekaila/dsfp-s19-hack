{
 "cells": [
  {
   "cell_type": "code",
   "execution_count": 2,
   "metadata": {},
   "outputs": [],
   "source": [
    "import pandas as pd\n",
    "import glob as g"
   ]
  },
  {
   "cell_type": "markdown",
   "metadata": {},
   "source": [
    "# audio deep learning\n",
    "\n",
    "shamelessly copied from https://towardsdatascience.com/audio-deep-learning-made-simple-sound-classification-step-by-step-cebc936bbe5"
   ]
  },
  {
   "cell_type": "code",
   "execution_count": 15,
   "metadata": {},
   "outputs": [],
   "source": [
    "class_ids = [0,1,2]\n",
    "#violin is 0\n",
    "#trumpet is 1\n",
    "#guitar is 2\n",
    "\n",
    "paths_violin = g.glob('data/violin/*')\n",
    "paths_guitar = g.glob('data/guitar/*')\n",
    "paths_trumpet = g.glob('data/trumpet/*')\n",
    "\n",
    "num_samples = len(paths_trumpet) + len(paths_guitar) + len(paths_violin)\n",
    "\n",
    "paths_all = paths_violin + paths_guitar + paths_trumpet\n",
    "ids_all = [0]*len(paths_trumpet) + [1]*len(paths_guitar) + [2]*len(paths_violin)"
   ]
  },
  {
   "cell_type": "code",
   "execution_count": 20,
   "metadata": {},
   "outputs": [],
   "source": [
    "meta = pd.DataFrame({'path':paths_all,'class':ids_all})"
   ]
  },
  {
   "cell_type": "code",
   "execution_count": 21,
   "metadata": {},
   "outputs": [
    {
     "data": {
      "text/html": [
       "<div>\n",
       "<style scoped>\n",
       "    .dataframe tbody tr th:only-of-type {\n",
       "        vertical-align: middle;\n",
       "    }\n",
       "\n",
       "    .dataframe tbody tr th {\n",
       "        vertical-align: top;\n",
       "    }\n",
       "\n",
       "    .dataframe thead th {\n",
       "        text-align: right;\n",
       "    }\n",
       "</style>\n",
       "<table border=\"1\" class=\"dataframe\">\n",
       "  <thead>\n",
       "    <tr style=\"text-align: right;\">\n",
       "      <th></th>\n",
       "      <th>path</th>\n",
       "      <th>class</th>\n",
       "    </tr>\n",
       "  </thead>\n",
       "  <tbody>\n",
       "    <tr>\n",
       "      <th>0</th>\n",
       "      <td>data/violin/violin_D5_15_pianissimo_arco-norma...</td>\n",
       "      <td>0</td>\n",
       "    </tr>\n",
       "    <tr>\n",
       "      <th>1</th>\n",
       "      <td>data/violin/violin_Gs4_phrase_forte_arco-marte...</td>\n",
       "      <td>0</td>\n",
       "    </tr>\n",
       "    <tr>\n",
       "      <th>2</th>\n",
       "      <td>data/violin/violin_Gs4_1_fortissimo_arco-norma...</td>\n",
       "      <td>0</td>\n",
       "    </tr>\n",
       "    <tr>\n",
       "      <th>3</th>\n",
       "      <td>data/violin/violin_B5_025_mezzo-forte_pizz-nor...</td>\n",
       "      <td>0</td>\n",
       "    </tr>\n",
       "    <tr>\n",
       "      <th>4</th>\n",
       "      <td>data/violin/violin_As5_05_piano_arco-normal.mp3</td>\n",
       "      <td>0</td>\n",
       "    </tr>\n",
       "    <tr>\n",
       "      <th>...</th>\n",
       "      <td>...</td>\n",
       "      <td>...</td>\n",
       "    </tr>\n",
       "    <tr>\n",
       "      <th>2088</th>\n",
       "      <td>data/trumpet/trumpet_D4_1_pianissimo_normal.mp3</td>\n",
       "      <td>2</td>\n",
       "    </tr>\n",
       "    <tr>\n",
       "      <th>2089</th>\n",
       "      <td>data/trumpet/trumpet_E4_phrase_mezzo-forte_tri...</td>\n",
       "      <td>2</td>\n",
       "    </tr>\n",
       "    <tr>\n",
       "      <th>2090</th>\n",
       "      <td>data/trumpet/trumpet_Ds4_1_forte_normal.mp3</td>\n",
       "      <td>2</td>\n",
       "    </tr>\n",
       "    <tr>\n",
       "      <th>2091</th>\n",
       "      <td>data/trumpet/trumpet_D4_long_pianissimo_normal...</td>\n",
       "      <td>2</td>\n",
       "    </tr>\n",
       "    <tr>\n",
       "      <th>2092</th>\n",
       "      <td>data/trumpet/trumpet_C4_025_pianissimo_normal.mp3</td>\n",
       "      <td>2</td>\n",
       "    </tr>\n",
       "  </tbody>\n",
       "</table>\n",
       "<p>2093 rows × 2 columns</p>\n",
       "</div>"
      ],
      "text/plain": [
       "                                                   path  class\n",
       "0     data/violin/violin_D5_15_pianissimo_arco-norma...      0\n",
       "1     data/violin/violin_Gs4_phrase_forte_arco-marte...      0\n",
       "2     data/violin/violin_Gs4_1_fortissimo_arco-norma...      0\n",
       "3     data/violin/violin_B5_025_mezzo-forte_pizz-nor...      0\n",
       "4       data/violin/violin_As5_05_piano_arco-normal.mp3      0\n",
       "...                                                 ...    ...\n",
       "2088    data/trumpet/trumpet_D4_1_pianissimo_normal.mp3      2\n",
       "2089  data/trumpet/trumpet_E4_phrase_mezzo-forte_tri...      2\n",
       "2090        data/trumpet/trumpet_Ds4_1_forte_normal.mp3      2\n",
       "2091  data/trumpet/trumpet_D4_long_pianissimo_normal...      2\n",
       "2092  data/trumpet/trumpet_C4_025_pianissimo_normal.mp3      2\n",
       "\n",
       "[2093 rows x 2 columns]"
      ]
     },
     "execution_count": 21,
     "metadata": {},
     "output_type": "execute_result"
    }
   ],
   "source": [
    "meta"
   ]
  },
  {
   "cell_type": "code",
   "execution_count": null,
   "metadata": {},
   "outputs": [],
   "source": []
  }
 ],
 "metadata": {
  "kernelspec": {
   "display_name": "dsfp-s19-hack",
   "language": "python",
   "name": "python3"
  },
  "language_info": {
   "codemirror_mode": {
    "name": "ipython",
    "version": 3
   },
   "file_extension": ".py",
   "mimetype": "text/x-python",
   "name": "python",
   "nbconvert_exporter": "python",
   "pygments_lexer": "ipython3",
   "version": "3.11.5"
  },
  "orig_nbformat": 4
 },
 "nbformat": 4,
 "nbformat_minor": 2
}
